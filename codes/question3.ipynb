{
 "cells": [
  {
   "cell_type": "code",
   "execution_count": null,
   "id": "initial_id",
   "metadata": {
    "collapsed": true
   },
   "outputs": [],
   "source": [
    "def isValidAssignment(assignment, task, time_slot, subsystems, power_needs, power_limits):\n",
    "    if time_slot in assignment.values():\n",
    "        return False\n",
    "\n",
    "    if power_needs[task] > power_limits[time_slot - 1]:\n",
    "        return False\n",
    "\n",
    "    current_subsystem = subsystems[task]\n",
    "    for adj_time in [time_slot - 1, time_slot + 1]:\n",
    "        if adj_time in assignment.values():\n",
    "            for t, slot in assignment.items():\n",
    "                if slot == adj_time and subsystems[t] == current_subsystem:\n",
    "                    return False\n",
    "\n",
    "    return True"
   ]
  },
  {
   "metadata": {},
   "cell_type": "code",
   "outputs": [],
   "execution_count": null,
   "source": [
    "def backtrack(assignment, tasks, subsystems, power_needs, power_limits):\n",
    "    if len(assignment) == len(tasks):\n",
    "        return assignment\n",
    "\n",
    "    for task in tasks:\n",
    "        if task not in assignment:\n",
    "\n",
    "            for time_slot in range(1, 6):\n",
    "                if isValidAssignment(assignment, task, time_slot, subsystems, power_needs, power_limits):\n",
    "\n",
    "                    assignment[task] = time_slot\n",
    "\n",
    "                    result = backtrack(assignment.copy(), tasks, subsystems, power_needs, power_limits)\n",
    "                    if result is not None:\n",
    "                        return result\n",
    "            break\n",
    "\n",
    "    return None"
   ],
   "id": "ca7585439ad7eab1"
  },
  {
   "metadata": {},
   "cell_type": "code",
   "outputs": [],
   "execution_count": null,
   "source": [
    "def main() -> None:\n",
    "    tasks: tuple = ('T1', 'T2', 'T3', 'T4', 'T5')\n",
    "    subsystems: Dict[str, str] = {\n",
    "        'T1': 'Navigation',\n",
    "        'T2': 'Sampling',\n",
    "        'T3': 'Communication',\n",
    "        'T4': 'Navigation',\n",
    "        'T5': 'Sampling'\n",
    "    }\n",
    "    power_needs: Dict[str, int] = {\n",
    "        'T1': 5,\n",
    "        'T2': 4,\n",
    "        'T3': 6,\n",
    "        'T4': 7,\n",
    "        'T5': 3\n",
    "    }\n",
    "    power_limits: tuple = (10, 6, 12, 8, 10)\n",
    "    assignment = backtrack({}, tasks, subsystems, power_needs, power_limits)\n",
    "\n",
    "    if assignment:\n",
    "        print(\"Task assignment found:\")\n",
    "        for task, time_slot in assignment.items():\n",
    "            print(f\"{task}: Time slot {time_slot} (Subsystem: {subsystems[task]}, Power: {power_needs[task]})\")\n",
    "    else:\n",
    "        print(\"No solution found\")"
   ],
   "id": "64ef649dde7c57ef"
  },
  {
   "metadata": {},
   "cell_type": "code",
   "outputs": [],
   "execution_count": null,
   "source": [
    "if __name__ == \"__main__\":\n",
    "    main()"
   ],
   "id": "66228568599f53de"
  }
 ],
 "metadata": {
  "kernelspec": {
   "display_name": "Python 3",
   "language": "python",
   "name": "python3"
  },
  "language_info": {
   "codemirror_mode": {
    "name": "ipython",
    "version": 2
   },
   "file_extension": ".py",
   "mimetype": "text/x-python",
   "name": "python",
   "nbconvert_exporter": "python",
   "pygments_lexer": "ipython2",
   "version": "2.7.6"
  }
 },
 "nbformat": 4,
 "nbformat_minor": 5
}
