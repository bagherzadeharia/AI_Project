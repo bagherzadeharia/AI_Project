{
 "cells": [
  {
   "metadata": {},
   "cell_type": "markdown",
   "source": [
    "# Question 3\n",
    "Task Assignment\n",
    "***"
   ],
   "id": "437a134a1b2b372d"
  },
  {
   "metadata": {},
   "cell_type": "markdown",
   "source": [
    "**Assignment Validation Function**\n",
    "\n",
    "Checks for potential problems in assignment"
   ],
   "id": "49aae6657bfa835e"
  },
  {
   "cell_type": "code",
   "id": "initial_id",
   "metadata": {
    "collapsed": true,
    "ExecuteTime": {
     "end_time": "2025-06-04T21:48:18.196673Z",
     "start_time": "2025-06-04T21:48:18.193534Z"
    }
   },
   "source": [
    "def isValid(assignment, task, time_slot, subsystems, power_needs, power_limits):\n",
    "    if (time_slot in assignment.values()) or power_needs[task] > power_limits[time_slot - 1]:\n",
    "        return False\n",
    "\n",
    "    current_subsystem = subsystems[task]\n",
    "    for adj_time in [time_slot - 1, time_slot + 1]:\n",
    "        if adj_time in assignment.values():\n",
    "            for t, slot in assignment.items():\n",
    "                if slot == adj_time and subsystems[t] == current_subsystem:\n",
    "                    return False\n",
    "\n",
    "    return True"
   ],
   "outputs": [],
   "execution_count": 25
  },
  {
   "metadata": {},
   "cell_type": "markdown",
   "source": [
    "**Backtracking Function**\n",
    "\n",
    "Core of the code"
   ],
   "id": "eab0af3b31fa29cb"
  },
  {
   "metadata": {
    "ExecuteTime": {
     "end_time": "2025-06-04T21:48:18.208718Z",
     "start_time": "2025-06-04T21:48:18.205632Z"
    }
   },
   "cell_type": "code",
   "source": [
    "def backtrack(assignment, tasks, subsystems, power_needs, power_limits):\n",
    "    if len(assignment) == len(tasks):\n",
    "        return assignment\n",
    "\n",
    "    for task in tasks:\n",
    "        if task not in assignment:\n",
    "\n",
    "            for time_slot in range(1, 6):\n",
    "                if isValid(assignment, task, time_slot, subsystems, power_needs, power_limits):\n",
    "\n",
    "                    assignment[task] = time_slot\n",
    "\n",
    "                    result = backtrack(assignment.copy(), tasks, subsystems, power_needs, power_limits)\n",
    "                    if result is not None:\n",
    "                        return result\n",
    "            break\n",
    "\n",
    "    return None"
   ],
   "id": "ca7585439ad7eab1",
   "outputs": [],
   "execution_count": 26
  },
  {
   "metadata": {},
   "cell_type": "markdown",
   "source": "**Main Function**",
   "id": "d1db928bd23e898"
  },
  {
   "metadata": {
    "ExecuteTime": {
     "end_time": "2025-06-04T21:48:18.221940Z",
     "start_time": "2025-06-04T21:48:18.218572Z"
    }
   },
   "cell_type": "code",
   "source": [
    "def main() -> None:\n",
    "    tasks: tuple = ('T1', 'T2', 'T3', 'T4', 'T5')\n",
    "    subsystems: Dict[str, str] = {\n",
    "        'T1': 'Navigation',\n",
    "        'T2': 'Sampling',\n",
    "        'T3': 'Communication',\n",
    "        'T4': 'Navigation',\n",
    "        'T5': 'Sampling'\n",
    "    }\n",
    "    power_needs: Dict[str, int] = {\n",
    "        'T1': 5,\n",
    "        'T2': 4,\n",
    "        'T3': 6,\n",
    "        'T4': 7,\n",
    "        'T5': 3\n",
    "    }\n",
    "    power_limits: tuple = (10, 6, 12, 8, 10)\n",
    "    assignment = backtrack({}, tasks, subsystems, power_needs, power_limits)\n",
    "\n",
    "    if assignment:\n",
    "        print(\"Task assignment found:\")\n",
    "        for task, time_slot in assignment.items():\n",
    "            print(f\"{task}: Time slot {time_slot} (Subsystem: {subsystems[task]}, Power: {power_needs[task]})\")\n",
    "    else:\n",
    "        print(\"No solution found\")"
   ],
   "id": "64ef649dde7c57ef",
   "outputs": [],
   "execution_count": 27
  },
  {
   "metadata": {},
   "cell_type": "markdown",
   "source": "**The section below is for running this file only**",
   "id": "e3a1bef8595c8a2f"
  },
  {
   "metadata": {
    "ExecuteTime": {
     "end_time": "2025-06-04T21:48:18.235722Z",
     "start_time": "2025-06-04T21:48:18.233138Z"
    }
   },
   "cell_type": "code",
   "source": [
    "if __name__ == \"__main__\":\n",
    "    main()"
   ],
   "id": "66228568599f53de",
   "outputs": [
    {
     "name": "stdout",
     "output_type": "stream",
     "text": [
      "Task assignment found:\n",
      "T1: Time slot 1 (Subsystem: Navigation, Power: 5)\n",
      "T2: Time slot 2 (Subsystem: Sampling, Power: 4)\n",
      "T3: Time slot 3 (Subsystem: Communication, Power: 6)\n",
      "T4: Time slot 4 (Subsystem: Navigation, Power: 7)\n",
      "T5: Time slot 5 (Subsystem: Sampling, Power: 3)\n"
     ]
    }
   ],
   "execution_count": 28
  }
 ],
 "metadata": {
  "kernelspec": {
   "display_name": "Python 3",
   "language": "python",
   "name": "python3"
  },
  "language_info": {
   "codemirror_mode": {
    "name": "ipython",
    "version": 2
   },
   "file_extension": ".py",
   "mimetype": "text/x-python",
   "name": "python",
   "nbconvert_exporter": "python",
   "pygments_lexer": "ipython2",
   "version": "2.7.6"
  }
 },
 "nbformat": 4,
 "nbformat_minor": 5
}
