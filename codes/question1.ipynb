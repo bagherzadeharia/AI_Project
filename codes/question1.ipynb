{
 "cells": [
  {
   "metadata": {},
   "cell_type": "markdown",
   "source": [
    "# Question 1\n",
    "Pathfinding with BFS Algorithm\n",
    "***"
   ],
   "id": "43f628a1210bc075"
  },
  {
   "metadata": {},
   "cell_type": "markdown",
   "source": "**Libraries/Modules**",
   "id": "9d9488746d0e86e9"
  },
  {
   "metadata": {},
   "cell_type": "code",
   "source": "from collections import deque",
   "id": "initial_id",
   "outputs": [],
   "execution_count": null
  },
  {
   "metadata": {},
   "cell_type": "markdown",
   "source": [
    "**Grid Validation Function**\n",
    "\n",
    "To determine if we have a proper grid as our map"
   ],
   "id": "d73699561bd8ac4"
  },
  {
   "metadata": {},
   "cell_type": "code",
   "source": [
    "def gridValidation(grid) -> bool:\n",
    "    if len(grid) != 5 or any(len(row) != 5 for row in grid):\n",
    "        return False\n",
    "\n",
    "    for row in grid:\n",
    "        for cell in row:\n",
    "            if cell not in {0, 1}:\n",
    "                return False\n",
    "\n",
    "    return True"
   ],
   "id": "7562de07e950cbde",
   "outputs": [],
   "execution_count": null
  },
  {
   "metadata": {},
   "cell_type": "markdown",
   "source": [
    "**BFS Pathfinder Algorithm Function**\n",
    "\n",
    "Why we chose BFS?\n",
    "- Simple deployment using 'Queue' datatype\n",
    "- Ensures that it finds the shortest path possible\n",
    "- No need for previous knowledge about the environment"
   ],
   "id": "1c4fbe5a107b8e35"
  },
  {
   "metadata": {},
   "cell_type": "code",
   "source": [
    "def BFS_Algorithm(grid) -> list or str:\n",
    "    if not gridValidation(grid):\n",
    "        return \"Invalid input. Grid must be 5x5 with only 0s and 1s.\"\n",
    "\n",
    "    if grid[0][0] == 1 or grid[4][4] == 1:\n",
    "        return \"No path found. Start or end position is blocked.\"\n",
    "\n",
    "    directions = [(-1, 0), (1, 0), (0, -1), (0, 1)]\n",
    "    queue = deque()\n",
    "    queue.append((0, 0, [(0, 0)]))\n",
    "    visited = set()\n",
    "    visited.add((0, 0))\n",
    "\n",
    "    while queue:\n",
    "        row, col, path = queue.popleft()\n",
    "\n",
    "        if row == 4 and col == 4:\n",
    "            return path\n",
    "\n",
    "        for dr, dc in directions:\n",
    "            new_row, new_col = row + dr, col + dc\n",
    "            if 0 <= new_row < 5 and 0 <= new_col < 5:\n",
    "                if grid[new_row][new_col] == 0 and (new_row, new_col) not in visited:\n",
    "                    visited.add((new_row, new_col))\n",
    "                    queue.append((new_row, new_col, path + [(new_row, new_col)]))\n",
    "\n",
    "    return \"No path exists to the destination.\""
   ],
   "id": "ceb947fddcc8fbaf",
   "outputs": [],
   "execution_count": null
  },
  {
   "metadata": {},
   "cell_type": "markdown",
   "source": "**Main Function**",
   "id": "cd6726db4cce4565"
  },
  {
   "metadata": {},
   "cell_type": "code",
   "source": [
    "def main() -> None:\n",
    "    grid: list[list[int]] = [\n",
    "        [0, 0, 0, 1, 0],\n",
    "        [1, 1, 0, 1, 0],\n",
    "        [0, 0, 0, 1, 0],\n",
    "        [0, 1, 1, 1, 0],\n",
    "        [0, 0, 0, 0, 0]\n",
    "    ]\n",
    "\n",
    "    path = BFS_Algorithm(grid)\n",
    "    print(\"Path found:\", path)"
   ],
   "id": "6588d655f85eca36",
   "outputs": [],
   "execution_count": null
  },
  {
   "metadata": {},
   "cell_type": "markdown",
   "source": "**The section below is for running this file only**",
   "id": "66274f18e6b81f28"
  },
  {
   "metadata": {},
   "cell_type": "code",
   "source": [
    "if __name__ == \"__main__\":\n",
    "    main()"
   ],
   "id": "bdd8bcbf869a8ec",
   "outputs": [],
   "execution_count": null
  }
 ],
 "metadata": {
  "kernelspec": {
   "display_name": "Python 3",
   "language": "python",
   "name": "python3"
  },
  "language_info": {
   "codemirror_mode": {
    "name": "ipython",
    "version": 2
   },
   "file_extension": ".py",
   "mimetype": "text/x-python",
   "name": "python",
   "nbconvert_exporter": "python",
   "pygments_lexer": "ipython2",
   "version": "2.7.6"
  }
 },
 "nbformat": 4,
 "nbformat_minor": 5
}
