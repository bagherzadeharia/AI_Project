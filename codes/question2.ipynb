{
 "cells": [
  {
   "cell_type": "code",
   "id": "initial_id",
   "metadata": {
    "collapsed": true
   },
   "source": "import random",
   "outputs": [],
   "execution_count": null
  },
  {
   "metadata": {},
   "cell_type": "code",
   "source": [
    "def fitness(chromosome, exposure_values):\n",
    "    return sum(chromosome[i] * exposure_values[i] for i in range(len(chromosome)))"
   ],
   "id": "4e3ff9615589fd8c",
   "outputs": [],
   "execution_count": null
  },
  {
   "metadata": {},
   "cell_type": "code",
   "source": [
    "def initPopulation(pop_size, chrom_length, ones_count) -> list:\n",
    "    population = []\n",
    "    for _ in range(pop_size):\n",
    "        chrom = [0] * chrom_length\n",
    "        ones_indices = random.sample(range(chrom_length), ones_count)\n",
    "        for i in ones_indices:\n",
    "            chrom[i] = 1\n",
    "        population.append(chrom)\n",
    "    return population"
   ],
   "id": "d55b3c1cc3ad1ae8",
   "outputs": [],
   "execution_count": null
  },
  {
   "metadata": {},
   "cell_type": "code",
   "source": [
    "def tournamentSelection(population, exposure_values):\n",
    "    tournament = random.sample(population, 2)\n",
    "    return max(tournament, key=lambda chrom: fitness(chrom, exposure_values))"
   ],
   "id": "feb64e09a4608d1a",
   "outputs": [],
   "execution_count": null
  },
  {
   "metadata": {},
   "cell_type": "code",
   "source": [
    "def singlePointCrossover(parent1, parent2, ones_count):\n",
    "    length = len(parent1)\n",
    "    point = random.randint(1, length - 1)\n",
    "    child1 = parent1[:point] + parent2[point:]\n",
    "    child2 = parent2[:point] + parent1[point:]\n",
    "\n",
    "    for child in [child1, child2]:\n",
    "        ones = sum(child)\n",
    "        if ones > ones_count:\n",
    "            ones_indices = [i for i, x in enumerate(child) if x == 1]\n",
    "            for _ in range(ones - ones_count):\n",
    "                idx = random.choice(ones_indices)\n",
    "                child[idx] = 0\n",
    "                ones_indices.remove(idx)\n",
    "        elif ones < ones_count:\n",
    "            zeros_indices = [i for i, x in enumerate(child) if x == 0]\n",
    "            for _ in range(ones_count - ones):\n",
    "                idx = random.choice(zeros_indices)\n",
    "                child[idx] = 1\n",
    "                zeros_indices.remove(idx)\n",
    "    return child1, child2"
   ],
   "id": "8b0f4899ad072e25",
   "outputs": [],
   "execution_count": null
  },
  {
   "metadata": {},
   "cell_type": "code",
   "source": [
    "def mutation(chromosome, ones_count):\n",
    "    chrom = chromosome[:]\n",
    "    ones_indices = [i for i, x in enumerate(chrom) if x == 1]\n",
    "    zeros_indices = [i for i, x in enumerate(chrom) if x == 0]\n",
    "    if ones_indices and zeros_indices:\n",
    "        one_idx = random.choice(ones_indices)\n",
    "        zero_idx = random.choice(zeros_indices)\n",
    "        chrom[one_idx], chrom[zero_idx] = 0, 1\n",
    "    return chrom"
   ],
   "id": "d65a03a22c8112ed",
   "outputs": [],
   "execution_count": null
  },
  {
   "metadata": {},
   "cell_type": "code",
   "source": [
    "def geneticAlgorithm(exposure_values, pop_size=6, generations=10, ones_count=5):\n",
    "    chrom_length = len(exposure_values)\n",
    "    population = initPopulation(pop_size, chrom_length, ones_count)\n",
    "\n",
    "    for _ in range(generations):\n",
    "        new_population = []\n",
    "        best_chrom = max(population, key=lambda chrom: fitness(chrom, exposure_values))\n",
    "        new_population.append(best_chrom)\n",
    "\n",
    "        while len(new_population) < pop_size:\n",
    "            parent1 = tournamentSelection(population, exposure_values)\n",
    "            parent2 = tournamentSelection(population, exposure_values)\n",
    "            child1, child2 = singlePointCrossover(parent1, parent2, ones_count)\n",
    "\n",
    "            if random.random() < 0.1:\n",
    "                child1 = mutation(child1, ones_count)\n",
    "                child2 = mutation(child2, ones_count)\n",
    "\n",
    "            new_population.extend([child1, child2])\n",
    "\n",
    "        population = new_population[:pop_size]\n",
    "\n",
    "    best_chrom = max(population, key=lambda chrom: fitness(chrom, exposure_values))\n",
    "    best_fitness = fitness(best_chrom, exposure_values)\n",
    "    return best_chrom, best_fitness"
   ],
   "id": "ecff0cbb0a87b737",
   "outputs": [],
   "execution_count": null
  },
  {
   "metadata": {},
   "cell_type": "code",
   "source": [
    "def main() -> None:\n",
    "    exposure_values = [3, 7, 1, 6, 2, 8, 4, 5, 9, 10]\n",
    "    best_chromosome, best_fitness = geneticAlgorithm(exposure_values)\n",
    "    print(f\"Best Chromosome: {best_chromosome}\")\n",
    "    print(f\"مجموع نوردهی: {best_fitness}\")"
   ],
   "id": "10f092b68d9a952d",
   "outputs": [],
   "execution_count": null
  },
  {
   "metadata": {},
   "cell_type": "code",
   "source": [
    "if __name__ == \"__main__\":\n",
    "    main()"
   ],
   "id": "49e9be1833391fca",
   "outputs": [],
   "execution_count": null
  }
 ],
 "metadata": {
  "kernelspec": {
   "display_name": "Python 3",
   "language": "python",
   "name": "python3"
  },
  "language_info": {
   "codemirror_mode": {
    "name": "ipython",
    "version": 2
   },
   "file_extension": ".py",
   "mimetype": "text/x-python",
   "name": "python",
   "nbconvert_exporter": "python",
   "pygments_lexer": "ipython2",
   "version": "2.7.6"
  }
 },
 "nbformat": 4,
 "nbformat_minor": 5
}
