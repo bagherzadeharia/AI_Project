{
 "cells": [
  {
   "metadata": {},
   "cell_type": "markdown",
   "source": [
    "# Question 2\n",
    "Finding The Best Location for Solar Panels\n",
    "***"
   ],
   "id": "5cb8fcbf9af2e73"
  },
  {
   "metadata": {},
   "cell_type": "markdown",
   "source": "**Libraries/Modules**",
   "id": "5a164b62780bc3df"
  },
  {
   "cell_type": "code",
   "id": "initial_id",
   "metadata": {
    "collapsed": true,
    "ExecuteTime": {
     "end_time": "2025-06-07T07:39:54.883810Z",
     "start_time": "2025-06-07T07:39:54.880700Z"
    }
   },
   "source": [
    "import random\n",
    "import copy"
   ],
   "outputs": [],
   "execution_count": 1
  },
  {
   "metadata": {},
   "cell_type": "markdown",
   "source": "**Population Initialization Function**",
   "id": "3c5b30c1f7c49c7b"
  },
  {
   "metadata": {
    "ExecuteTime": {
     "end_time": "2025-06-07T07:39:54.910535Z",
     "start_time": "2025-06-07T07:39:54.907378Z"
    }
   },
   "cell_type": "code",
   "source": [
    "def create_initial_population(pop_size, genome_length, n_ones):\n",
    "    population = []\n",
    "    for _ in range(pop_size):\n",
    "        individual = [0] * genome_length\n",
    "        ones_indices = random.sample(range(genome_length), n_ones)\n",
    "        for idx in ones_indices:\n",
    "            individual[idx] = 1\n",
    "        population.append(individual)\n",
    "    return population"
   ],
   "id": "4e3ff9615589fd8c",
   "outputs": [],
   "execution_count": 2
  },
  {
   "metadata": {},
   "cell_type": "markdown",
   "source": "**Fitness Function**",
   "id": "87a46df1ca2bcbbb"
  },
  {
   "metadata": {
    "ExecuteTime": {
     "end_time": "2025-06-07T07:39:54.929357Z",
     "start_time": "2025-06-07T07:39:54.926873Z"
    }
   },
   "cell_type": "code",
   "source": [
    "def calculate_fitness(individual, exposures):\n",
    "    return sum(bit * exposures[i] for i, bit in enumerate(individual))"
   ],
   "id": "d55b3c1cc3ad1ae8",
   "outputs": [],
   "execution_count": 3
  },
  {
   "metadata": {},
   "cell_type": "markdown",
   "source": "**Tornument Selection Function**",
   "id": "f1e83039367a0df3"
  },
  {
   "metadata": {
    "ExecuteTime": {
     "end_time": "2025-06-07T07:39:55.399253Z",
     "start_time": "2025-06-07T07:39:55.396849Z"
    }
   },
   "cell_type": "code",
   "source": [
    "def tournament_selection(population, exposures, k=3):\n",
    "    contenders = random.sample(population, k)\n",
    "    return max(contenders, key=lambda ind: calculate_fitness(ind, exposures))"
   ],
   "id": "feb64e09a4608d1a",
   "outputs": [],
   "execution_count": 4
  },
  {
   "metadata": {},
   "cell_type": "markdown",
   "source": "**Repair Function (Essential to Crossover Function)**",
   "id": "95b67228ad39c847"
  },
  {
   "metadata": {
    "ExecuteTime": {
     "end_time": "2025-06-07T07:39:55.426679Z",
     "start_time": "2025-06-07T07:39:55.423413Z"
    }
   },
   "cell_type": "code",
   "source": [
    "def repair(child, n_ones=5):\n",
    "    while sum(child) > n_ones:\n",
    "        i = random.choice([i for i, b in enumerate(child) if b == 1])\n",
    "        child[i] = 0\n",
    "\n",
    "    while sum(child) < n_ones:\n",
    "        i = random.choice([i for i, b in enumerate(child) if b == 0])\n",
    "        child[i] = 1"
   ],
   "id": "8b0f4899ad072e25",
   "outputs": [],
   "execution_count": 5
  },
  {
   "metadata": {},
   "cell_type": "markdown",
   "source": "**Crossover Function**",
   "id": "887f2846051ace1a"
  },
  {
   "metadata": {
    "ExecuteTime": {
     "end_time": "2025-06-07T07:39:55.471733Z",
     "start_time": "2025-06-07T07:39:55.469117Z"
    }
   },
   "cell_type": "code",
   "source": [
    "def crossover(parent1, parent2):\n",
    "    length = len(parent1)\n",
    "    child1, child2 = copy.deepcopy(parent1), copy.deepcopy(parent2)\n",
    "    p1, p2 = sorted(random.sample(range(1, length-1), 2))\n",
    "    child1[p1:p2], child2[p1:p2] = parent2[p1:p2], parent1[p1:p2]\n",
    "    repair(child1)\n",
    "    repair(child2)\n",
    "    return child1, child2"
   ],
   "id": "d65a03a22c8112ed",
   "outputs": [],
   "execution_count": 6
  },
  {
   "metadata": {},
   "cell_type": "markdown",
   "source": "**Mutation Function**",
   "id": "ef6b52379827dda1"
  },
  {
   "metadata": {
    "ExecuteTime": {
     "end_time": "2025-06-07T07:39:55.495590Z",
     "start_time": "2025-06-07T07:39:55.492179Z"
    }
   },
   "cell_type": "code",
   "source": [
    "def mutate(individual, mutation_rate=0.1):\n",
    "    if random.random() < mutation_rate:\n",
    "        ones = [i for i, b in enumerate(individual) if b == 1]\n",
    "        zeros = [i for i, b in enumerate(individual) if b == 0]\n",
    "        if ones and zeros:\n",
    "            i1 = random.choice(ones)\n",
    "            i0 = random.choice(zeros)\n",
    "            individual[i1], individual[i0] = 0, 1\n",
    "\n",
    "    return individual"
   ],
   "id": "ecff0cbb0a87b737",
   "outputs": [],
   "execution_count": 7
  },
  {
   "metadata": {},
   "cell_type": "markdown",
   "source": "**Genetic Algorithm Function**",
   "id": "94222308b024237d"
  },
  {
   "metadata": {
    "ExecuteTime": {
     "end_time": "2025-06-07T07:39:55.516969Z",
     "start_time": "2025-06-07T07:39:55.513166Z"
    }
   },
   "cell_type": "code",
   "source": [
    "def genetic_algorithm(exposures, pop_size=10, generations=20):\n",
    "    population = create_initial_population(pop_size, len(exposures), 5)\n",
    "    for gen in range(1, generations+1):\n",
    "        new_pop = []\n",
    "        elite = max(population, key=lambda ind: calculate_fitness(ind, exposures))\n",
    "        new_pop.append(elite)\n",
    "        while len(new_pop) < pop_size:\n",
    "            p1 = tournament_selection(population, exposures)\n",
    "            p2 = tournament_selection(population, exposures)\n",
    "            while p2 == p1:\n",
    "                p2 = tournament_selection(population, exposures)\n",
    "\n",
    "            c1, c2 = crossover(p1, p2)\n",
    "            new_pop.append(mutate(c1))\n",
    "            if len(new_pop) < pop_size:\n",
    "                new_pop.append(mutate(c2))\n",
    "\n",
    "        population = new_pop\n",
    "\n",
    "    best = max(population, key=lambda ind: calculate_fitness(ind, exposures))\n",
    "    return best, calculate_fitness(best, exposures)"
   ],
   "id": "da53272e209913cd",
   "outputs": [],
   "execution_count": 8
  },
  {
   "metadata": {},
   "cell_type": "markdown",
   "source": "**Main Function**",
   "id": "451defbfdc81bf46"
  },
  {
   "metadata": {
    "ExecuteTime": {
     "end_time": "2025-06-07T07:39:55.536664Z",
     "start_time": "2025-06-07T07:39:55.533773Z"
    }
   },
   "cell_type": "code",
   "source": [
    "def main():\n",
    "    print(\"=== AstroBot Solar Panel Placement System ===\")\n",
    "    exposures = [8.5, 2.3, 9.1, 4.2, 7.8, 3.1, 6.7, 9.8, 1.5, 5.4]\n",
    "    print(\"Exposure list:\", exposures)\n",
    "    best_sol, best_fit = genetic_algorithm(exposures)\n",
    "    print(\"\\n--- Best Solution ---\")\n",
    "    print(\"Binary genome:\", best_sol)\n",
    "    print(f\"Total exposure: {best_fit:.2f}\")"
   ],
   "id": "10f092b68d9a952d",
   "outputs": [],
   "execution_count": 9
  },
  {
   "metadata": {},
   "cell_type": "markdown",
   "source": "**The section below is for running this file only**",
   "id": "3961dcac7f30c2a1"
  },
  {
   "metadata": {
    "ExecuteTime": {
     "end_time": "2025-06-07T07:39:55.560182Z",
     "start_time": "2025-06-07T07:39:55.553132Z"
    }
   },
   "cell_type": "code",
   "source": [
    "if __name__ == \"__main__\":\n",
    "    main()"
   ],
   "id": "49e9be1833391fca",
   "outputs": [
    {
     "name": "stdout",
     "output_type": "stream",
     "text": [
      "=== GA Solar Panel Placement ===\n",
      "Exposure list: [8.5, 2.3, 9.1, 4.2, 7.8, 3.1, 6.7, 9.8, 1.5, 5.4]\n",
      "\n",
      "--- Best Solution ---\n",
      "Binary genome: [1, 0, 1, 0, 1, 0, 1, 1, 0, 0]\n",
      "Total exposure: 41.90\n"
     ]
    }
   ],
   "execution_count": 10
  }
 ],
 "metadata": {
  "kernelspec": {
   "display_name": "Python 3",
   "language": "python",
   "name": "python3"
  },
  "language_info": {
   "codemirror_mode": {
    "name": "ipython",
    "version": 2
   },
   "file_extension": ".py",
   "mimetype": "text/x-python",
   "name": "python",
   "nbconvert_exporter": "python",
   "pygments_lexer": "ipython2",
   "version": "2.7.6"
  }
 },
 "nbformat": 4,
 "nbformat_minor": 5
}
